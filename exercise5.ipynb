{
  "cells": [
    {
      "cell_type": "markdown",
      "metadata": {
        "id": "view-in-github",
        "colab_type": "text"
      },
      "source": [
        "<a href=\"https://colab.research.google.com/github/Luc1lfer/CCDATRCL_ASSIGNMENT_COM221/blob/main/exercise5.ipynb\" target=\"_parent\"><img src=\"https://colab.research.google.com/assets/colab-badge.svg\" alt=\"Open In Colab\"/></a>"
      ]
    },
    {
      "cell_type": "markdown",
      "metadata": {
        "id": "3_a9aQWpDgPb"
      },
      "source": [
        "# Exercise 5"
      ]
    },
    {
      "cell_type": "markdown",
      "metadata": {
        "id": "3CjzxGjSDgPg"
      },
      "source": [
        "#### 1. Create a dictionary of your 10 favorite songs."
      ]
    },
    {
      "cell_type": "markdown",
      "metadata": {
        "id": "YvX1xVB4DgPh"
      },
      "source": [
        "Example:\n",
        "\n",
        "|KEY|VALUE|\n",
        "|---|---|\n",
        "|001|My Love|\n",
        "|002|Like a rose|"
      ]
    },
    {
      "cell_type": "code",
      "execution_count": null,
      "metadata": {
        "id": "UqAAtM1TDgPi",
        "colab": {
          "base_uri": "https://localhost:8080/"
        },
        "outputId": "9a493808-0dbe-4721-c8e7-4f3cffb2dcc7"
      },
      "outputs": [
        {
          "output_type": "stream",
          "name": "stdout",
          "text": [
            "{'001': 'Goddamn', '002': 'Ms. Jackson', '003': 'Humble', '004': 'WELCOME2DTQ', '005': 'Heartless', '006': 'Valentine', '007': 'Sweet Dreams', '008': 'Voulez-Vous', '009': 'Everybody Wants to Rule Thw World', '010': 'To The Bone'}\n"
          ]
        }
      ],
      "source": [
        "# put your answer here\n",
        "my_dct = {\n",
        "    \"001\": \"Goddamn\",\n",
        "    \"002\": \"Ms. Jackson\",\n",
        "    \"003\": \"Humble\",\n",
        "    \"004\": \"WELCOME2DTQ\",\n",
        "    \"005\": \"Heartless\",\n",
        "    \"006\": \"Valentine\",\n",
        "    \"007\": \"Sweet Dreams\",\n",
        "    \"008\": \"Voulez-Vous\",\n",
        "    \"009\": \"Everybody Wants to Rule Thw World\",\n",
        "    \"010\": \"To The Bone\"\n",
        "}\n",
        "\n",
        "print(my_dct)"
      ]
    },
    {
      "cell_type": "markdown",
      "metadata": {
        "id": "6uhWI2UpDgPk"
      },
      "source": [
        "#### 2. Loop through the dictionary by its **key** and **value**"
      ]
    },
    {
      "cell_type": "code",
      "execution_count": null,
      "metadata": {
        "id": "tKtSekCPDgPk",
        "colab": {
          "base_uri": "https://localhost:8080/"
        },
        "outputId": "e41f233c-db1f-44be-ec9a-618745898286"
      },
      "outputs": [
        {
          "output_type": "stream",
          "name": "stdout",
          "text": [
            "Key: 001\n",
            "Value: Goddamn\n",
            "\n",
            "Key: 002\n",
            "Value: Ms. Jackson\n",
            "\n",
            "Key: 003\n",
            "Value: Humble\n",
            "\n",
            "Key: 004\n",
            "Value: WELCOME2DTQ\n",
            "\n",
            "Key: 005\n",
            "Value: Heartless\n",
            "\n",
            "Key: 006\n",
            "Value: Valentine\n",
            "\n",
            "Key: 007\n",
            "Value: Sweet Dreams\n",
            "\n",
            "Key: 008\n",
            "Value: Voulez-Vous\n",
            "\n",
            "Key: 009\n",
            "Value: Everybody Wants to Rule Thw World\n",
            "\n",
            "Key: 010\n",
            "Value: To The Bone\n",
            "\n"
          ]
        }
      ],
      "source": [
        "# put your answer here\n",
        "for key, value in my_dct.items():\n",
        "  print(\"Key:\", key)\n",
        "  print(\"Value:\", value)\n",
        "  print(\"\")"
      ]
    },
    {
      "cell_type": "markdown",
      "metadata": {
        "id": "B1YKgvEbDgPl"
      },
      "source": [
        "#### 3. Add one additional song"
      ]
    },
    {
      "cell_type": "code",
      "execution_count": null,
      "metadata": {
        "id": "xvJFIjgzDgPl",
        "colab": {
          "base_uri": "https://localhost:8080/"
        },
        "outputId": "b7dbe666-cbda-43f0-9b5d-9969647a495b"
      },
      "outputs": [
        {
          "output_type": "stream",
          "name": "stdout",
          "text": [
            "Key: 001\n",
            "Value: Goddamn\n",
            "\n",
            "Key: 002\n",
            "Value: Ms. Jackson\n",
            "\n",
            "Key: 003\n",
            "Value: Humble\n",
            "\n",
            "Key: 004\n",
            "Value: WELCOME2DTQ\n",
            "\n",
            "Key: 005\n",
            "Value: Heartless\n",
            "\n",
            "Key: 006\n",
            "Value: Valentine\n",
            "\n",
            "Key: 007\n",
            "Value: Sweet Dreams\n",
            "\n",
            "Key: 008\n",
            "Value: Voulez-Vous\n",
            "\n",
            "Key: 009\n",
            "Value: Everybody Wants to Rule Thw World\n",
            "\n",
            "Key: 010\n",
            "Value: To The Bone\n",
            "\n",
            "Key: 011\n",
            "Value: Glimpse of Us\n",
            "\n"
          ]
        }
      ],
      "source": [
        "# put your answer here\n",
        "my_dct[\"011\"] = \"Glimpse of Us\"\n",
        "\n",
        "for key, value in my_dct.items():\n",
        "  print(\"Key:\", key)\n",
        "  print(\"Value:\", value)\n",
        "  print(\"\")"
      ]
    },
    {
      "cell_type": "markdown",
      "metadata": {
        "id": "WHqUBz6gDgPm"
      },
      "source": [
        "#### 4. Remove one song"
      ]
    },
    {
      "cell_type": "code",
      "execution_count": null,
      "metadata": {
        "id": "PyJ7JMFRDgPm",
        "colab": {
          "base_uri": "https://localhost:8080/"
        },
        "outputId": "212359fc-680b-4cf0-f2ff-1f993ec7060e"
      },
      "outputs": [
        {
          "output_type": "stream",
          "name": "stdout",
          "text": [
            "Key: 001\n",
            "Value: Goddamn\n",
            "\n",
            "Key: 002\n",
            "Value: Ms. Jackson\n",
            "\n",
            "Key: 003\n",
            "Value: Humble\n",
            "\n",
            "Key: 004\n",
            "Value: WELCOME2DTQ\n",
            "\n",
            "Key: 005\n",
            "Value: Heartless\n",
            "\n",
            "Key: 006\n",
            "Value: Valentine\n",
            "\n",
            "Key: 007\n",
            "Value: Sweet Dreams\n",
            "\n",
            "Key: 008\n",
            "Value: Voulez-Vous\n",
            "\n",
            "Key: 009\n",
            "Value: Everybody Wants to Rule Thw World\n",
            "\n",
            "Key: 010\n",
            "Value: To The Bone\n",
            "\n",
            "Removed Song: Glimpse of Us\n"
          ]
        }
      ],
      "source": [
        "# put your answer here\n",
        "removed_song = my_dct.pop(\"011\")\n",
        "\n",
        "for key, value in my_dct.items():\n",
        "  print(\"Key:\", key)\n",
        "  print(\"Value:\", value)\n",
        "  print(\"\")\n",
        "\n",
        "print(\"Removed Song:\", removed_song)"
      ]
    },
    {
      "cell_type": "markdown",
      "metadata": {
        "id": "oivBkY5pDgPn"
      },
      "source": [
        "#### 5. Create a nested dictionary of your 10 favorite songs with 5 genres. Display all of the items of the nested dictionary\n",
        "\n",
        "- Each nested dictionary's key should be the genre of the song\n",
        "- Put each song in their respective genre"
      ]
    },
    {
      "cell_type": "markdown",
      "metadata": {
        "id": "w3JCj_WnDgPn"
      },
      "source": [
        "Example:\n",
        "\n",
        "\n",
        "|KEY|VALUE|\n",
        "|---|---|\n",
        "|Pop|{001, Baby}|\n",
        "|Rock|{001, Enter Sandman}|"
      ]
    },
    {
      "cell_type": "code",
      "execution_count": null,
      "metadata": {
        "id": "bnAf9uagDgPn",
        "colab": {
          "base_uri": "https://localhost:8080/"
        },
        "outputId": "0c5c583f-189d-435b-e45a-e0bfd40b3eb9"
      },
      "outputs": [
        {
          "output_type": "stream",
          "name": "stdout",
          "text": [
            "Genre: Pop\n",
            "001: Dance Monkey\n",
            "002: Shape of My Heart\n",
            "Genre: Alternative\n",
            "003: Yellow\n",
            "004: Radioactive\n",
            "Genre: R&B\n",
            "005: Blinding Lights\n",
            "006: Love On Top\n",
            "Genre: Hip-hop\n",
            "007: Sicko Mode\n",
            "008: Old Town Road\n",
            "Genre: Classic\n",
            "009: Eine kleine Nachtmusik\n",
            "0010: Ode to Joy\n"
          ]
        }
      ],
      "source": [
        "# put your answer here\n",
        "new_songs = {\n",
        "    \"Pop\": {\n",
        "        \"001\": \"Dance Monkey\",\n",
        "        \"002\": \"Shape of My Heart\"\n",
        "    },\n",
        "    \"Alternative\": {\n",
        "        \"003\": \"Yellow\",\n",
        "        \"004\": \"Radioactive\"\n",
        "    },\n",
        "    \"R&B\": {\n",
        "        \"005\": \"Blinding Lights\",\n",
        "        \"006\": \"Love On Top\"\n",
        "    },\n",
        "    \"Hip-hop\": {\n",
        "        \"007\": \"Sicko Mode\",\n",
        "        \"008\": \"Old Town Road\"\n",
        "    },\n",
        "    \"Classic\": {\n",
        "        \"009\": \"Eine kleine Nachtmusik\",\n",
        "        \"0010\": \"Ode to Joy\"\n",
        "    }\n",
        "}\n",
        "\n",
        "for genre, songs in new_songs.items():\n",
        "      print(f'Genre: {genre}')\n",
        "      for song_id, song_title in songs.items():\n",
        "        print(f'{song_id}: {song_title}')"
      ]
    },
    {
      "cell_type": "markdown",
      "metadata": {
        "id": "uJJiGwZvDgPn"
      },
      "source": [
        "#### 6. Print the first song of the first genre"
      ]
    },
    {
      "cell_type": "code",
      "execution_count": null,
      "metadata": {
        "id": "g-bhhn2dDgPn",
        "colab": {
          "base_uri": "https://localhost:8080/"
        },
        "outputId": "9b256db8-ec2c-4018-b7e6-7aa51893c747"
      },
      "outputs": [
        {
          "output_type": "stream",
          "name": "stdout",
          "text": [
            "Dance Monkey\n"
          ]
        }
      ],
      "source": [
        "# put your answer here\n",
        "print(new_songs[\"Pop\"][\"001\"])"
      ]
    },
    {
      "cell_type": "markdown",
      "metadata": {
        "id": "q-_qczu9DgPo"
      },
      "source": [
        "#### 7. Print the first song of the last genre"
      ]
    },
    {
      "cell_type": "code",
      "execution_count": null,
      "metadata": {
        "id": "PRMaALdRDgPo",
        "colab": {
          "base_uri": "https://localhost:8080/"
        },
        "outputId": "427e212e-a21b-4659-9b99-c7e65595f18d"
      },
      "outputs": [
        {
          "output_type": "stream",
          "name": "stdout",
          "text": [
            "Eine kleine Nachtmusik\n"
          ]
        }
      ],
      "source": [
        "# put your answer here\n",
        "print(new_songs[\"Classic\"][\"009\"])"
      ]
    }
  ],
  "metadata": {
    "kernelspec": {
      "display_name": "Python 3",
      "language": "python",
      "name": "python3"
    },
    "language_info": {
      "codemirror_mode": {
        "name": "ipython",
        "version": 3
      },
      "file_extension": ".py",
      "mimetype": "text/x-python",
      "name": "python",
      "nbconvert_exporter": "python",
      "pygments_lexer": "ipython3",
      "version": "3.11.4"
    },
    "orig_nbformat": 4,
    "colab": {
      "provenance": [],
      "include_colab_link": true
    }
  },
  "nbformat": 4,
  "nbformat_minor": 0
}